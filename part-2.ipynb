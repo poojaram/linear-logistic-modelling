{
 "cells": [
  {
   "cell_type": "markdown",
   "metadata": {},
   "source": [
    "# Does faculty salary vary by gender and/or rank? \n",
    "A linear modeling approach."
   ]
  },
  {
   "cell_type": "markdown",
   "metadata": {},
   "source": [
    "## Set up\n",
    "Let's begin by reading in some data from [this course website](http://data.princeton.edu/wws509/datasets/#salary). Columns included are:\n",
    "\n",
    "- **sx** = Sex, coded 1 for female and 0 for male\n",
    "- **rk** = Rank, coded\n",
    "    - 1 for assistant professor,\n",
    "    - 2 for associate professor, and\n",
    "    - 3 for full professor\n",
    "- **yr** = Number of years in current rank\n",
    "- **dg** = Highest degree, coded 1 if doctorate, 0 if masters\n",
    "- **yd** = Number of years since highest degree was earned\n",
    "- **sl** = Academic year salary, in dollars.\n",
    "\n",
    "Before performing the statistical analysis here, make sure you have completed `part-1.ipynb` to get to know your data."
   ]
  },
  {
   "cell_type": "code",
   "execution_count": 1,
   "metadata": {},
   "outputs": [],
   "source": [
    "# Set up\n",
    "import numpy as np\n",
    "import pandas as pd\n",
    "import seaborn as sns # for visualiation\n",
    "import urllib.request # to load data\n",
    "from scipy import stats # ANOVA\n",
    "from scipy.stats import ttest_ind # t-tests\n",
    "import statsmodels.formula.api as smf # linear modeling\n",
    "import altair as alt\n",
    "alt.renderers.enable('notebook') # enable altair rendering\n",
    "import matplotlib.pyplot as plt # plotting (optional)\n",
    "%matplotlib inline "
   ]
  },
  {
   "cell_type": "code",
   "execution_count": 2,
   "metadata": {},
   "outputs": [],
   "source": [
    "# Read data from URL\n",
    "data = urllib.request.urlopen('http://data.princeton.edu/wws509/datasets/salary.dat')\n",
    "salary_data= pd.read_table(data, sep='\\s+')"
   ]
  },
  {
   "cell_type": "markdown",
   "metadata": {},
   "source": [
    "## Simple linear regression: what is the salary increase associated with each additional year in your current position (`yr`)?"
   ]
  },
  {
   "cell_type": "code",
   "execution_count": 3,
   "metadata": {},
   "outputs": [],
   "source": [
    "# Create a simple linear model using `smf.ols()` that assesses the relationship between \n",
    "# years in current position (`yd`) with salary (`sl`).\n",
    "\n",
    "# Then, use the `.summary()` method of your model to print our information about your model\n"
   ]
  },
  {
   "cell_type": "markdown",
   "metadata": {},
   "source": [
    "**Assess the fit of your model**. In the space provided here, you should use clear and interpretable language to interpret your model. For example, you can use statements like, the beta value of *** indicates that each unit increase in *** is associated with an *** increase in *** ).\n",
    "\n",
    "Describe the _accuracy of your coefficient estimates_. In doing so, interpret the following: \n",
    "- **Coefficient** (beta) in your model:  _(your interpretation here)_\n",
    "- **Standard errors** of your estimate: _(your interpretation here)_\n",
    "- **Confidence intervals** around your coefficient: _(your interpretation here)_\n",
    "\n",
    "Describe the _**accuracy** of your model_. In doing so, interpret the following:\n",
    "- **R-squared** value: _(your interpretation here)_"
   ]
  },
  {
   "cell_type": "code",
   "execution_count": 5,
   "metadata": {
    "collapsed": true
   },
   "outputs": [],
   "source": [
    "# Create a `predictions` column of your dataframe by \n",
    "# making predictions from your linear model. Hint: use the `.predict()` method of your model\n"
   ]
  },
  {
   "cell_type": "code",
   "execution_count": 3,
   "metadata": {},
   "outputs": [],
   "source": [
    "# Draw a scatterplot comparing years in current rank (`yr` -- x axis) to salary (`sl` -- y axis).\n",
    "# Add to that scatterplot your \"best fit line\" that shows how well the model fits our data\n",
    "# (this line will have `yr` as the x axis, and your `predictions` on the y axis)\n"
   ]
  },
  {
   "cell_type": "markdown",
   "metadata": {},
   "source": [
    "## Multiple Regression"
   ]
  },
  {
   "cell_type": "markdown",
   "metadata": {},
   "source": [
    "Now you will improve (well, likely improve) your model by predicing your outcome of interest (salary) using **multiple** independent variables"
   ]
  },
  {
   "cell_type": "code",
   "execution_count": 4,
   "metadata": {},
   "outputs": [],
   "source": [
    "# Using multiple regression, create a linear model that uses \n",
    "# sex, rank, and years in current rank variables to estimate salary\n",
    "\n",
    "# Then, use the `.summary()` method of your model to print out information about the model.\n"
   ]
  },
  {
   "cell_type": "markdown",
   "metadata": {},
   "source": [
    "**Assess the fit of your model**. In the space provided here, you should use clear and interpretable language to interpret your model. For each independent variable, you should write out a sentence explaining the beta and confidence intervals. For example, \n",
    "\n",
    "> There was an observed association of BETA (LOWER_BOUND, UPPER_BOUND) salary increase for each unit increase in VARIABLE.\n"
   ]
  },
  {
   "cell_type": "markdown",
   "metadata": {},
   "source": [
    "Describe the _**accuracy** of your model_. In doing so, interpret the following:\n",
    "- **R-squared** value: _(your interpretation here)_"
   ]
  },
  {
   "cell_type": "markdown",
   "metadata": {
    "collapsed": true
   },
   "source": [
    "Write down at least one relationship in your model that you find surprising (i.e., would not have expected given your analysis up until this point)"
   ]
  },
  {
   "cell_type": "code",
   "execution_count": 5,
   "metadata": {},
   "outputs": [],
   "source": [
    "# Create a `mult_preds` column of your dataframe by \n",
    "# making predictions from your new (multivariate) linear model. Hint: use the `.predict()` method of your model\n",
    "\n"
   ]
  },
  {
   "cell_type": "code",
   "execution_count": 6,
   "metadata": {},
   "outputs": [],
   "source": [
    "# Visually compare these predictions (`mult_preds`) to those from your linear model (`predictions`) \n",
    "# by creating a scatterplot of the two variables\n"
   ]
  },
  {
   "cell_type": "markdown",
   "metadata": {},
   "source": [
    "Write down at least one relationship in this graph that you find notable."
   ]
  },
  {
   "cell_type": "markdown",
   "metadata": {},
   "source": [
    "## Assessing prediction accuracy"
   ]
  },
  {
   "cell_type": "code",
   "execution_count": 7,
   "metadata": {},
   "outputs": [],
   "source": [
    "# Make a scatterplot that compares the actual salary data (`sl` -- x axis) \n",
    "# to the multivariate predictions (`mult_preds` -- y axis)\n",
    "# Add a line to this plot showing where the perfect prediction values would be \n",
    "# (i.e., a line whose x and y values are both the `sl` column)\n"
   ]
  },
  {
   "cell_type": "markdown",
   "metadata": {},
   "source": [
    "Using the r-squared values of each model -- univariate (`predictions`) and multivariate (`mult_preds`) -- describe \n",
    "which one explains more variance?\n"
   ]
  },
  {
   "cell_type": "markdown",
   "metadata": {},
   "source": [
    "### Residual plots"
   ]
  },
  {
   "cell_type": "code",
   "execution_count": 8,
   "metadata": {},
   "outputs": [],
   "source": [
    "# For each model, plot the salary (`sl`) v.s. the *residuals* (difference between actual and predicted values)\n",
    "# Add a horizontal line at 0 to help interpret the graph\n",
    "# (I suggest rendering adjacent plots, though you are welcome to make them separately)\n"
   ]
  },
  {
   "cell_type": "markdown",
   "metadata": {
    "collapsed": true
   },
   "source": [
    "Write at least **one observation** based on the residual plots above. More specifically, describe how each each model systematically fits (or _fails_ to fit) the data"
   ]
  }
 ],
 "metadata": {
  "anaconda-cloud": {},
  "kernelspec": {
   "display_name": "Python 3",
   "language": "python",
   "name": "python3"
  },
  "language_info": {
   "codemirror_mode": {
    "name": "ipython",
    "version": 3
   },
   "file_extension": ".py",
   "mimetype": "text/x-python",
   "name": "python",
   "nbconvert_exporter": "python",
   "pygments_lexer": "ipython3",
   "version": "3.6.5"
  }
 },
 "nbformat": 4,
 "nbformat_minor": 1
}

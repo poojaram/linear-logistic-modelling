{
 "cells": [
  {
   "cell_type": "markdown",
   "metadata": {},
   "source": [
    "# Does faculty salary vary by gender and/or rank?"
   ]
  },
  {
   "cell_type": "markdown",
   "metadata": {},
   "source": [
    "## Set up\n",
    "\n",
    "Before getting started, the only addtional library you should have to install (that did not come with the anaconda python distribution) is `seaborn`, a package for visualization:\n",
    "\n",
    "```\n",
    "pip install seaborn\n",
    "```\n",
    "\n",
    "Let's begin by reading in some data from [this course website](http://data.princeton.edu/wws509/datasets/#salary). Columns included are:\n",
    "\n",
    "- **sx** = Sex, coded 1 for female and 0 for male\n",
    "- **rk** = Rank, coded\n",
    "    - 1 for assistant professor,\n",
    "    - 2 for associate professor, and\n",
    "    - 3 for full professor\n",
    "- **yr** = Number of years in current rank\n",
    "- **dg** = Highest degree, coded 1 if doctorate, 0 if masters\n",
    "- **yd** = Number of years since highest degree was earned\n",
    "- **sl** = Academic year salary, in dollars.\n",
    "\n",
    "Before performing the statistical analysis here, you should run the `exploratory-analysis` file to get to know your data."
   ]
  },
  {
   "cell_type": "code",
   "execution_count": 1,
   "metadata": {
    "collapsed": true
   },
   "outputs": [],
   "source": [
    "# Set up\n",
    "import numpy as np\n",
    "import pandas as pd\n",
    "import seaborn as sns # for visualiation\n",
    "import urllib.request # to load data\n",
    "from scipy import stats # ANOVA\n",
    "from scipy.stats import ttest_ind # t-tests\n",
    "import statsmodels.formula.api as smf # linear modeling\n",
    "import matplotlib.pyplot as plt # plotting\n",
    "import matplotlib\n",
    "matplotlib.style.use('ggplot')\n",
    "%matplotlib inline "
   ]
  },
  {
   "cell_type": "code",
   "execution_count": 2,
   "metadata": {
    "collapsed": true
   },
   "outputs": [],
   "source": [
    "# Read data from URL\n"
   ]
  },
  {
   "cell_type": "markdown",
   "metadata": {},
   "source": [
    "## Simple linear regression: what is the salary increase associated with each additional year in your current position (`yr`)?"
   ]
  },
  {
   "cell_type": "code",
   "execution_count": 3,
   "metadata": {},
   "outputs": [],
   "source": [
    "# Create a simple linear model that assesses the relationship between \n",
    "# years in current position with salary\n"
   ]
  },
  {
   "cell_type": "markdown",
   "metadata": {},
   "source": [
    "Assess the fit of your model:\n",
    "\n",
    "- Describe the _accuracy of your coefficient estimates_. What are your interpretations of the **betas**, their **standard errors**, and their **confidence intervals** for your model?\n",
    "- Describe the _accuracy of your model_. What is your interpretation of the **R-squared** value?"
   ]
  },
  {
   "cell_type": "code",
   "execution_count": 4,
   "metadata": {
    "collapsed": true
   },
   "outputs": [],
   "source": [
    "# Write your interpretations here:\n",
    "# - Betas: \n",
    "# - Standard errors on the betas: \n",
    "# - Confidence intervals: \n",
    "# - R Squared: "
   ]
  },
  {
   "cell_type": "code",
   "execution_count": 5,
   "metadata": {
    "collapsed": true
   },
   "outputs": [],
   "source": [
    "# Create a `predictions` column of your dataframe by \n",
    "# making predictions from your linear model\n"
   ]
  },
  {
   "cell_type": "code",
   "execution_count": 6,
   "metadata": {},
   "outputs": [],
   "source": [
    "# Draw a scatterplot with your best fit line to show how well the model fits our data\n"
   ]
  },
  {
   "cell_type": "markdown",
   "metadata": {},
   "source": [
    "## Multiple Regression"
   ]
  },
  {
   "cell_type": "markdown",
   "metadata": {},
   "source": [
    "Predict using **multiple** independent variables"
   ]
  },
  {
   "cell_type": "code",
   "execution_count": 7,
   "metadata": {},
   "outputs": [],
   "source": [
    "# Using multiple regression, create a linear model that uses \n",
    "# sex, rank, and years in current rank variables to estimate salary\n"
   ]
  },
  {
   "cell_type": "markdown",
   "metadata": {},
   "source": [
    "Assess the fit of your model:\n",
    "\n",
    "- Describe the _accuracy of your coefficient estimates_. What are your interpretations of the **betas**, their **standard errors**, and their **confidence intervals** for your model?\n",
    "- Describe the _accuracy of your model_. What is your interpretation of the **R-squared** value?\n",
    "- What do you find surprising...?"
   ]
  },
  {
   "cell_type": "code",
   "execution_count": 9,
   "metadata": {
    "collapsed": true
   },
   "outputs": [],
   "source": [
    "# Write your interpretations of the betas and CIs for each variable:\n",
    "# For example, Each additional year is associated with an N change in salary (+/- Y)|"
   ]
  },
  {
   "cell_type": "code",
   "execution_count": 10,
   "metadata": {
    "collapsed": true
   },
   "outputs": [],
   "source": [
    "# Write your interpretation of the R-Squared value"
   ]
  },
  {
   "cell_type": "code",
   "execution_count": 11,
   "metadata": {
    "collapsed": true
   },
   "outputs": [],
   "source": [
    "# Write what surprises you....\n"
   ]
  },
  {
   "cell_type": "code",
   "execution_count": 12,
   "metadata": {
    "collapsed": true
   },
   "outputs": [],
   "source": [
    "# Create a `mult_predictions` column of your dataframe by \n",
    "# making predictions from your multiple regression model\n"
   ]
  },
  {
   "cell_type": "code",
   "execution_count": 13,
   "metadata": {},
   "outputs": [],
   "source": [
    "# How do our predictions compare to your earlier predications?\n"
   ]
  },
  {
   "cell_type": "code",
   "execution_count": 14,
   "metadata": {},
   "outputs": [],
   "source": [
    "# Create a scatter plot with years since degree on the x axis, and \n",
    "# Salary on the y axis. Show points for both the data, and the multiple regression values.\n"
   ]
  },
  {
   "cell_type": "markdown",
   "metadata": {},
   "source": [
    "## Assess predictions"
   ]
  },
  {
   "cell_type": "code",
   "execution_count": 15,
   "metadata": {},
   "outputs": [],
   "source": [
    "# Make a scatterplot that compares the data (x) to the predictions (y)\n",
    "# Add a line showing where the perfect values would be (i.e., data against data)\n"
   ]
  },
  {
   "cell_type": "code",
   "execution_count": 16,
   "metadata": {},
   "outputs": [],
   "source": [
    "# What are the r-squared values of the two models?\n",
    "# Which one explains more variance?\n"
   ]
  },
  {
   "cell_type": "code",
   "execution_count": 17,
   "metadata": {},
   "outputs": [],
   "source": [
    "# Plot the salary v.s. the *residuals* (difference between actual and predicted values)\n",
    "# Create a separate (adjacent) plot for each model\n",
    "# Add a horizontal line at 0 to help interpret the graph\n"
   ]
  },
  {
   "cell_type": "code",
   "execution_count": null,
   "metadata": {
    "collapsed": true
   },
   "outputs": [],
   "source": [
    "# Provide an interpretation for these graphs"
   ]
  }
 ],
 "metadata": {
  "anaconda-cloud": {},
  "kernelspec": {
   "display_name": "Python 3",
   "language": "python",
   "name": "python3"
  },
  "language_info": {
   "codemirror_mode": {
    "name": "ipython",
    "version": 3
   },
   "file_extension": ".py",
   "mimetype": "text/x-python",
   "name": "python",
   "nbconvert_exporter": "python",
   "pygments_lexer": "ipython3",
   "version": "3.6.3"
  }
 },
 "nbformat": 4,
 "nbformat_minor": 1
}

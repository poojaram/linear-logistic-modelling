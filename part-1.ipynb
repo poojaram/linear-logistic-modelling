{
 "cells": [
  {
   "cell_type": "markdown",
   "metadata": {},
   "source": [
    "# Does faculty salary vary by sex and/or rank?\n",
    "A visual and statistical (i.e., `t-test`) approach."
   ]
  },
  {
   "cell_type": "markdown",
   "metadata": {},
   "source": [
    "## Set up\n",
    "Let's begin by reading in some data from [this course website](http://data.princeton.edu/wws509/datasets/#salary). Columns included are:\n",
    "\n",
    "- **sx** = Sex, coded 1 for female and 0 for male\n",
    "- **rk** = Rank, coded\n",
    "    - 1 for assistant professor,\n",
    "    - 2 for associate professor, and\n",
    "    - 3 for full professor\n",
    "- **yr** = Number of years in current rank\n",
    "- **dg** = Highest degree, coded 1 if doctorate, 0 if masters\n",
    "- **yd** = Number of years since highest degree was earned\n",
    "- **sl** = Academic year salary, in dollars."
   ]
  },
  {
   "cell_type": "code",
   "execution_count": 1,
   "metadata": {},
   "outputs": [],
   "source": [
    "# Set up\n",
    "import numpy as np\n",
    "import pandas as pd\n",
    "import seaborn as sns # for visualiation\n",
    "import urllib.request # to load data\n",
    "from scipy import stats # ANOVA\n",
    "from scipy.stats import ttest_ind # t-tests\n",
    "import statsmodels.formula.api as smf # linear modeling\n",
    "import altair as alt\n",
    "alt.renderers.enable('notebook') # enable altair rendering\n",
    "import matplotlib.pyplot as plt # plotting (optional)\n",
    "%matplotlib inline "
   ]
  },
  {
   "cell_type": "code",
   "execution_count": 2,
   "metadata": {},
   "outputs": [],
   "source": [
    "# Read data from URL\n",
    "data = urllib.request.urlopen('http://data.princeton.edu/wws509/datasets/salary.dat')\n",
    "salary_data= pd.read_table(data, sep='\\s+')"
   ]
  },
  {
   "cell_type": "markdown",
   "metadata": {},
   "source": [
    "## Descriptive statistics by sex"
   ]
  },
  {
   "cell_type": "markdown",
   "metadata": {},
   "source": [
    "Before doing any statistical tests, you should get a basic feel for the sex breakdown in your dataset"
   ]
  },
  {
   "cell_type": "code",
   "execution_count": 3,
   "metadata": {},
   "outputs": [],
   "source": [
    "# What is the number of males/females in the dataset? What does this already tell you...?\n"
   ]
  },
  {
   "cell_type": "code",
   "execution_count": 4,
   "metadata": {},
   "outputs": [],
   "source": [
    "# What is the mean salary by sex? Hint: you'll have to groupby sex (`sx`)\n"
   ]
  },
  {
   "cell_type": "code",
   "execution_count": 5,
   "metadata": {},
   "outputs": [],
   "source": [
    "# Draw histograms for the distribution of salaries for males and females (either separately, or overlapping)\n",
    "# Hint: you can use the `.hist` method of a dataframe and specify what you want to separate *by*, or\n",
    "# Use altair to create a layered historgram (https://altair-viz.github.io/gallery/layered_histogram.html)\n"
   ]
  },
  {
   "cell_type": "code",
   "execution_count": 6,
   "metadata": {},
   "outputs": [],
   "source": [
    "# Create a boxplot of the salaries by sex (i.e., on one plot have boxes for each sex)\n",
    "# See an example here: https://seaborn.pydata.org/generated/seaborn.boxplot.html"
   ]
  },
  {
   "cell_type": "code",
   "execution_count": 7,
   "metadata": {},
   "outputs": [],
   "source": [
    "# Another great way to see these two distributions is using a stripplot (jittered density plot)\n",
    "# Show salary distributions for males and females in a stripplot\n",
    "# Use the sns.stripplot method (https://seaborn.pydata.org/generated/seaborn.stripplot.html)\n"
   ]
  },
  {
   "cell_type": "markdown",
   "metadata": {},
   "source": [
    "## Test for a difference in means by sex\n",
    "Use a t-test to see if there is a significant difference in means"
   ]
  },
  {
   "cell_type": "code",
   "execution_count": 8,
   "metadata": {},
   "outputs": [],
   "source": [
    "# Use the `ttest_ind` method to perform a t-test assessing differences in salary for male/female faculty\n",
    "# (you may find it helpful to create separate data frames for the male and female observations -- optional)\n"
   ]
  },
  {
   "cell_type": "markdown",
   "metadata": {},
   "source": [
    "### Write an interpretation of the results of your t-test here"
   ]
  },
  {
   "cell_type": "markdown",
   "metadata": {},
   "source": [
    "## Descriptive Statistics by Rank"
   ]
  },
  {
   "cell_type": "code",
   "execution_count": 9,
   "metadata": {},
   "outputs": [],
   "source": [
    "# Draw histograms for the distribution of salaries by rank (`rk`)\n",
    "# Again, you can choose to make separate historgrams, or overlay them\n",
    "\n"
   ]
  },
  {
   "cell_type": "markdown",
   "metadata": {},
   "source": [
    "## Test for differences in means by rank"
   ]
  },
  {
   "cell_type": "markdown",
   "metadata": {},
   "source": [
    "First, we'll want to leverage the **t-test** to test for differences by rank. To do this, we'll need to take the rank variable `rk` (which has **3 categories**) and use it to define a _new variable_ that has only **two categories** (full professor, and _not_ full professor). Once create these two groupings (full professors, not full professors),  you can perform a t-test to assess the difference in salary between the two groups."
   ]
  },
  {
   "cell_type": "code",
   "execution_count": 10,
   "metadata": {},
   "outputs": [],
   "source": [
    "# Create a new column representing this new grouping of faculty (full, not_full)\n",
    "\n",
    "\n",
    "# Use a t-test to asssess the difference in mean salary between these two groups\n"
   ]
  },
  {
   "cell_type": "markdown",
   "metadata": {},
   "source": [
    "### Write an interpretation of the results of your t-test here"
   ]
  },
  {
   "cell_type": "markdown",
   "metadata": {},
   "source": [
    "Alternatively, we could use an **Analysis of Variance (ANOVA)** test (an extension of the t-test) to assess the statistical significance in differences across the three faculty rankings (assistant, associate, full). To do this, simply pass 3 (or more!) sets of data into the `stats.f_oneway()` method to check for the significance of difference in means across groups. Your interpretation of the p-value will be the same as for the t-test. "
   ]
  },
  {
   "cell_type": "code",
   "execution_count": 11,
   "metadata": {},
   "outputs": [],
   "source": [
    "# Use the ANOVA method to test for differences in means by rank (this time, all 3 ranks)\n",
    "# Specifically, Uue the `stats.f_oneway` method to perform the test\n",
    "# You may find it helpful to break the data into separate data frames first (optional)\n"
   ]
  },
  {
   "cell_type": "markdown",
   "metadata": {},
   "source": [
    "### Write an interpretation of the results of your t-test here"
   ]
  },
  {
   "cell_type": "markdown",
   "metadata": {},
   "source": [
    "## How does salary (`sl`) compare to years since degress (`yd`) and years in current rank (`yr`)?"
   ]
  },
  {
   "cell_type": "code",
   "execution_count": 12,
   "metadata": {},
   "outputs": [],
   "source": [
    "# Create scatterplots to show how salary (`sl`) compares to years since degree (`yd`) / in current rank (`yr`)\n",
    "# Ideally, place these adjacent to one another (not required, but it's a good skill to learn)\n"
   ]
  },
  {
   "cell_type": "markdown",
   "metadata": {},
   "source": [
    "## How does salary vary across rank and sex?\n",
    "To view this continuous variable (`sl`) broken down by two categorical variables (`rk` and `sx`), create the following graphics. It may help to sketch these first (by hand) to make sure you know what visual layout you are trying to make. Once you figure that out, review the documentation for the visualization package of your choice, keeping an eye out for ways to `facet` the charts."
   ]
  },
  {
   "cell_type": "code",
   "execution_count": 13,
   "metadata": {},
   "outputs": [],
   "source": [
    "# For each rank, show the distribution of salary (`sl`) for each sex (`sx`)\n",
    "# For example, you could have three charts (one for each faculty ranking), and for each one, show \n",
    "# a stripplot/histogram/boxbplot/violinplot with different markers for each sex \n"
   ]
  },
  {
   "cell_type": "code",
   "execution_count": 14,
   "metadata": {},
   "outputs": [],
   "source": [
    "# For each sex, show the distribution of salary (`sl`) for each rank (`rk`)\n",
    "# For example, you could have two charts (one for males, one for females), and for each one, show \n",
    "# a stripplot/histogram/boxbplot/violinplot with different markers for each rank\n",
    "\n",
    "\n",
    "\n"
   ]
  },
  {
   "cell_type": "markdown",
   "metadata": {
    "collapsed": true
   },
   "source": [
    "### Write an interpretation of the results of your t-test here\n",
    "What do these charts tell you about sex discrimination on the faculty?"
   ]
  }
 ],
 "metadata": {
  "anaconda-cloud": {},
  "kernelspec": {
   "display_name": "Python 3",
   "language": "python",
   "name": "python3"
  },
  "language_info": {
   "codemirror_mode": {
    "name": "ipython",
    "version": 3
   },
   "file_extension": ".py",
   "mimetype": "text/x-python",
   "name": "python",
   "nbconvert_exporter": "python",
   "pygments_lexer": "ipython3",
   "version": "3.6.5"
  }
 },
 "nbformat": 4,
 "nbformat_minor": 1
}

{
 "cells": [
  {
   "cell_type": "markdown",
   "metadata": {},
   "source": [
    "# Can we predict cryptocurrency market value?"
   ]
  },
  {
   "cell_type": "markdown",
   "metadata": {},
   "source": [
    "### Setup\n",
    "Let's begin by reading in some data from [this Kaggle page](https://www.kaggle.com/sudalairajkumar/cryptocurrencypricehistory/home), named `bitcoin_dataset.csv`\n",
    "\n",
    "**BTC** is an abbrevation for \"Bitcoin\".\n",
    "\n",
    "Here are some of the features included in the dataset: \n",
    "\n",
    "- **btc_market_price** : Average USD market price across major bitcoin exchanges.\n",
    "- **btc_total_bitcoins** : The total number of bitcoins that have already been mined.\n",
    "- **btc_difficulty** : A relative measure of how difficult it is to find a new block.\n",
    "- **btc_miners_revenue** : Total value of coinbase block rewards and transaction fees paid to miners.\n",
    "- **btc_n_transactions** : The number of daily confirmed Bitcoin transactions.\n",
    "- **btc_n_transactions_excluding_popular** : The total number of Bitcoin transactions, excluding the 100 most popular addresses.\n",
    "- **btc_estimated_transaction_volume_usd** : The estimated transaction value in USD value.\n",
    "\n",
    "\n",
    "Bitcoin transactions occur when someone buys or transfers bitcoin to another person's bitcoin wallet. The person doing the transfer has to pay a transaction fee. Many factors affect these fees.\n"
   ]
  },
  {
   "cell_type": "code",
   "execution_count": 8,
   "metadata": {},
   "outputs": [],
   "source": [
    "# Import packages\n",
    "import pandas as pd\n",
    "import numpy as np\n",
    "import statsmodels.formula.api as smf # linear modeling\n",
    "import matplotlib.pyplot as plt # plotting"
   ]
  },
  {
   "cell_type": "markdown",
   "metadata": {},
   "source": [
    "Read in the data, and create a new dataframe with __only__ the columns mentioned above.\n",
    "\n",
    "Use dataframe.head() to view the first few rows."
   ]
  },
  {
   "cell_type": "code",
   "execution_count": 9,
   "metadata": {},
   "outputs": [],
   "source": [
    "# Load data, select only columns of interest mentioned above"
   ]
  },
  {
   "cell_type": "markdown",
   "metadata": {},
   "source": [
    "What are the data types in the columns?"
   ]
  },
  {
   "cell_type": "code",
   "execution_count": 10,
   "metadata": {},
   "outputs": [],
   "source": [
    "# Determine data types (something that can determine the types of analysis possible)"
   ]
  },
  {
   "cell_type": "markdown",
   "metadata": {},
   "source": [
    "## Exploratory data analysis\n",
    "Create at least two visualizations of the dataset to explore:\n",
    "- The distribution of your outcome variable\n",
    "- The relationship(s) between your outcome of interest and any other feature(s)"
   ]
  },
  {
   "cell_type": "code",
   "execution_count": 11,
   "metadata": {},
   "outputs": [],
   "source": [
    "# Chart showing distribution of outcome variable "
   ]
  },
  {
   "cell_type": "code",
   "execution_count": 12,
   "metadata": {},
   "outputs": [],
   "source": [
    "# Comparison of outcome to the variable(s) of your choice\n",
    "# This should be based on a question you want to answer \n",
    "# (e.g., is bitcoin price related to XX)"
   ]
  },
  {
   "cell_type": "markdown",
   "metadata": {},
   "source": [
    "## Univariate linear regression\n",
    "Propose a null and alternative hypothesis regarding the relationship betwen your outcome of interest and a single feature of your choice.\n",
    "\n",
    "> **Answer**: Your null and alternative hypothesis here"
   ]
  },
  {
   "cell_type": "code",
   "execution_count": 13,
   "metadata": {},
   "outputs": [],
   "source": [
    "# Use a linear regression to assess your null hypothesis"
   ]
  },
  {
   "cell_type": "markdown",
   "metadata": {},
   "source": [
    "#### An aside: Scientific notation refresher\n",
    "\n",
    "2.42e-06 is the same as 2.42 * 10^(-6) = 0.00000242\n",
    "\n",
    "2.42e+06 is the same as 2.42 * 10^(6) = 2420000\n",
    "\n",
    "(These are example values, not the ones you should see in the regression you just did.)\n"
   ]
  },
  {
   "cell_type": "markdown",
   "metadata": {},
   "source": [
    "### Interpret the results. \n",
    "Write out the formula for the linear regression, using the values within y = mx + b slope-intercept formula, where y is your outcome of interest, and `x` is the feature you are investigating.\n",
    "\n",
    "> **Answer**: Your answer here"
   ]
  },
  {
   "cell_type": "markdown",
   "metadata": {},
   "source": [
    "What is the beta value (coefficient) for you independent variable? What does it indicate to you?\n",
    "\n",
    "> **Answer:** Your answer here.\n",
    "\n",
    "What is the model's intercept value? What does it indicate to you?\n",
    "\n",
    "> **Answer:** Your answer here.\n",
    "\n",
    "Based on your model, can you reject your null hypothesis? If so, what do you believe the relationship to be between your independent and dependent variables? Make sure to include specific values in your response.\n",
    "\n",
    "> **Answer:** Your answer here.\n"
   ]
  },
  {
   "cell_type": "markdown",
   "metadata": {},
   "source": [
    "### Visualization\n",
    "Draw a scatterplot comparing your outcome of interest to your predictions. For comparison, draw a 45 degree line (i.e., x = y line) to show how well the model fits the data."
   ]
  },
  {
   "cell_type": "code",
   "execution_count": 14,
   "metadata": {},
   "outputs": [],
   "source": [
    "# Draw your graph here"
   ]
  },
  {
   "cell_type": "markdown",
   "metadata": {},
   "source": [
    "### Multiple Linear Regression"
   ]
  },
  {
   "cell_type": "markdown",
   "metadata": {},
   "source": [
    "Create a mulitple linear regression model to predict `btc_market_price` based on all the features listed in your dataframe. Show the summary statistics from the model."
   ]
  },
  {
   "cell_type": "code",
   "execution_count": 15,
   "metadata": {},
   "outputs": [],
   "source": [
    "# Create your linaer model here and print the summary of the model"
   ]
  },
  {
   "cell_type": "markdown",
   "metadata": {},
   "source": [
    "How much variation in the outcome can you predict using all of the variables in the dataset?\n",
    "\n",
    "> **Answer:** Your answer here."
   ]
  },
  {
   "cell_type": "markdown",
   "metadata": {},
   "source": [
    "Does this mean it's easy to predict bitcoin price (and you should therefore start investing in it)?\n",
    "\n",
    "> **Answer:** Your answer here."
   ]
  }
 ],
 "metadata": {
  "kernelspec": {
   "display_name": "Python 3",
   "language": "python",
   "name": "python3"
  },
  "language_info": {
   "codemirror_mode": {
    "name": "ipython",
    "version": 3
   },
   "file_extension": ".py",
   "mimetype": "text/x-python",
   "name": "python",
   "nbconvert_exporter": "python",
   "pygments_lexer": "ipython3",
   "version": "3.6.5"
  }
 },
 "nbformat": 4,
 "nbformat_minor": 2
}
